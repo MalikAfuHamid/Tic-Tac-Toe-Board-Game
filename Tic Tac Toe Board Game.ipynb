{
 "cells": [
  {
   "cell_type": "markdown",
   "id": "b74a30c4",
   "metadata": {},
   "source": [
    "# TIC TAC TOE BOARD GAME"
   ]
  },
  {
   "cell_type": "code",
   "execution_count": 1,
   "id": "0b5850a6",
   "metadata": {},
   "outputs": [
    {
     "name": "stdout",
     "output_type": "stream",
     "text": [
      "O|O|O\n",
      " |X|X\n",
      "X|O|X\n",
      "PLAYER 2 HAS WON!\n",
      "Play again? Please Enter Yes or No n\n"
     ]
    }
   ],
   "source": [
    "#STEP 1\n",
    "print('Welcome to Tic Tac Toe')\n",
    "from IPython.display import clear_output\n",
    "\n",
    "def display_board(board):\n",
    "    clear_output()\n",
    "    \n",
    "    print(board[7]+ '|' + board[8] + '|' + board[9])\n",
    "    print(board[4]+ '|' + board[5] + '|' + board[6])\n",
    "    print(board[1]+ '|' + board[2] + '|' + board[3])\n",
    "\n",
    "    \n",
    "#STEP 2\n",
    "def player_input():\n",
    "    marker = ''\n",
    "    \n",
    "    while not (marker == 'X' or marker == 'O'):\n",
    "        marker = input('Player 1: Do you want to be X or O? ').upper()\n",
    "\n",
    "    if marker == 'X':\n",
    "        return ('X', 'O')\n",
    "    else:\n",
    "        return ('O', 'X')\n",
    "    \n",
    "\n",
    "#STEP 3\n",
    "def place_marker(board, marker, position):\n",
    "    board[position] = marker\n",
    "\n",
    "    \n",
    "#STEP 4\n",
    "def win_check(board,mark):\n",
    "    \n",
    "    return ((board[7] == mark and board[8] == mark and board[9] == mark) or # across the top\n",
    "    (board[4] == mark and board[5] == mark and board[6] == mark) or # across the middle\n",
    "    (board[1] == mark and board[2] == mark and board[3] == mark) or # across the bottom\n",
    "    (board[7] == mark and board[4] == mark and board[1] == mark) or # down the middle\n",
    "    (board[8] == mark and board[5] == mark and board[2] == mark) or # down the middle\n",
    "    (board[9] == mark and board[6] == mark and board[3] == mark) or # down the right side\n",
    "    (board[7] == mark and board[5] == mark and board[3] == mark) or # diagonal\n",
    "    (board[9] == mark and board[5] == mark and board[1] == mark)) # diagonal\n",
    "\n",
    "\n",
    "#STEP 5\n",
    "import random\n",
    "\n",
    "def choose_first():\n",
    "    \n",
    "    flip = random.randint(0,1)\n",
    "    \n",
    "    if flip == 0:\n",
    "        return 'Player 1'\n",
    "    else:\n",
    "        return 'Player 2'\n",
    "    \n",
    "\n",
    "#STEP 6\n",
    "def space_check(board, position):\n",
    "    return board[position] == ' '\n",
    "\n",
    "\n",
    "#STEP 7\n",
    "def full_board_check(board):\n",
    "    \n",
    "    for i in range (1,10):\n",
    "        if space_check(board,i):\n",
    "            return False\n",
    "    \n",
    "    #BOARD IS FULL AND WE RETURN TRUE\n",
    "    return True \n",
    "\n",
    "\n",
    "#STEP 8\n",
    "player1_marker, player2_marker = player_input()\n",
    "\n",
    "def player_choice (board):\n",
    "    \n",
    "    position = 0\n",
    "\n",
    "    while position not in [1,2,3,4,5,6,7,8,9] or not space_check (board, position):\n",
    "        \n",
    "        position = int(input('Check a position: (1-9)'))\n",
    "    \n",
    "    return position\n",
    "\n",
    "\n",
    "#STEP 9\n",
    "def replay ():\n",
    "    \n",
    "    choice = input(\"Play again? Please Enter Yes or No \") \n",
    "    return choice == 'Yes'\n",
    "\n",
    "\n",
    "#STEP 10\n",
    "#WHILE LOOP TO KEEP RUNNING THE GAME\n",
    "\n",
    "while True:\n",
    "    \n",
    "    #1. SET EVERYTHING UP (BOARD, WHO FIRST, CHOOSE MARKERS X/O)\n",
    "    the_board = [' ']*10 \n",
    "    \n",
    "    turn = choose_first()\n",
    "    print(turn + ' will go first')\n",
    "    \n",
    "    #2. GAME PLAY\n",
    "    play_game = input('Ready to play? Please Enter Y or N ').upper()\n",
    "    \n",
    "    if play_game == 'Y':\n",
    "        game_on = True\n",
    "    else:\n",
    "        game_on = False\n",
    "    \n",
    "    while game_on:\n",
    "        \n",
    "    #3. PLAYER ONE TURN\n",
    "        if turn == 'Player 1':\n",
    "            \n",
    "            # Show the board\n",
    "            display_board(the_board)\n",
    "            \n",
    "            # Choose a position\n",
    "            position = player_choice (the_board)\n",
    "             \n",
    "            # Place the marker on the position \n",
    "            place_marker(the_board, player1_marker, position)\n",
    "            \n",
    "            # Check if player 1 won\n",
    "            if win_check(the_board, player1_marker):\n",
    "                display_board(the_board)\n",
    "                print('PLAYER 1 HAS WON!')\n",
    "                game_on = False\n",
    "               \n",
    "            else:   \n",
    "                \n",
    "            # or check if there is a tie\n",
    "                if full_board_check(the_board):\n",
    "                    display_board(the_board)\n",
    "                    print('TIE GAME!')\n",
    "                    game_on = False\n",
    "            \n",
    "            #Player 2 is turn\n",
    "                else:\n",
    "                    turn = 'Player 2'\n",
    "        \n",
    "        #No tie and no win? Then next player's turn    \n",
    "        \n",
    "        else:\n",
    "        \n",
    "    #4. PLAYER TWO TURN\n",
    "            # Show the board\n",
    "            display_board(the_board)\n",
    "            \n",
    "            # Choose a position\n",
    "            position = player_choice (the_board)\n",
    "             \n",
    "            # Place the marker on the position \n",
    "            place_marker(the_board, player2_marker, position)\n",
    "            \n",
    "            # Check if player 1 won\n",
    "            if win_check(the_board, player2_marker):\n",
    "                display_board(the_board)\n",
    "                print('PLAYER 2 HAS WON!')\n",
    "                game_on = False\n",
    "                \n",
    "            else: \n",
    "                \n",
    "            # or check if there is a tie\n",
    "                if full_board_check(the_board):\n",
    "                    display_board(the_board)\n",
    "                    print('TIE GAME!')\n",
    "                    game_on = False\n",
    "                else:\n",
    "                    turn = 'Player 1'\n",
    "    \n",
    "    #BREAK OUT OF THE WHILE LOOP ON replay()\n",
    "    if not replay():\n",
    "        break"
   ]
  },
  {
   "cell_type": "markdown",
   "id": "e43d6e90",
   "metadata": {},
   "source": [
    "# How it works?"
   ]
  },
  {
   "cell_type": "markdown",
   "id": "2375a160",
   "metadata": {},
   "source": [
    "### Step 1: Write a function that can print out a board. Set up your board as a list, where each index 1-9 corresponds with a number on a number pad, so you get a 3 by 3 board representation."
   ]
  },
  {
   "cell_type": "code",
   "execution_count": 1,
   "id": "27bec4f0",
   "metadata": {},
   "outputs": [],
   "source": [
    "#STEP 1\n",
    "\n",
    "from IPython.display import clear_output\n",
    "\n",
    "def display_board(board):\n",
    "    \n",
    "    print(board[7]+ '|' + board[8] + '|' + board[9])\n",
    "    print(board[4]+ '|' + board[5] + '|' + board[6])\n",
    "    print(board[1]+ '|' + board[2] + '|' + board[3])"
   ]
  },
  {
   "cell_type": "code",
   "execution_count": 3,
   "id": "693ae7c5",
   "metadata": {},
   "outputs": [
    {
     "name": "stdout",
     "output_type": "stream",
     "text": [
      "X|O|X\n",
      "O|X|O\n",
      "X|O|X\n"
     ]
    }
   ],
   "source": [
    "test_board = ['#','X','O','X','O','X','O','X','O','X']\n",
    "display_board(test_board)  "
   ]
  },
  {
   "cell_type": "markdown",
   "id": "942d4a0e",
   "metadata": {},
   "source": [
    "**MATERI**\n",
    "```\n",
    "\"from IPython.display import clear_output\"\n",
    "\"It imports the function that clears the screen.\"\n",
    "\n",
    "`IPython.display`\n",
    "A. \"In addition to what Badran said, 'IPython.display' is specific only to jupyter notebooks - it won't work in other IDE's like Spyder and PyCharm.\"\n",
    "\n",
    "B. \"It's importing something from the package IPython, specifically from the module called display.\"\n",
    "\n",
    "3.  `clear_output`\n",
    "A. \"it's included in the beginning of the walkthrough workbook.\"\n",
    "\"As for clearing the screen, when you run a cell, you get an output. This 'clear_output' function clears all previous output and prints the new board. Therefore, instead of seeing every previous board (i.e., previous output), you just see the most recent one.\"\n",
    "\n",
    "\"THE CONCLUTION IS *from IPython.display import clear_output --> It imports the function that clears the screen.\n",
    "```"
   ]
  },
  {
   "cell_type": "markdown",
   "id": "8f59252b",
   "metadata": {},
   "source": [
    "**PENJELASAN STEP 1**\n",
    "```\n",
    "1. \"print(board[7]+ '|' + board[8] + '|' + board[9])        print(board[4]+ '|' + board[5] + '|' + board[6])    \n",
    "   \"print(board[1]+ '|' + board[2] + '|' + board[3])\"\n",
    "   \n",
    "\"Poin 1 ini lo bikin tampilan layar untuk \"TIC TAC TOE\"\"\n",
    "\"Pada poin 1 itu lo menggunakan angka 1-9 yang posisinya sama seperti layar handphone/komputer (yang tempat angkanya ada di kanan) supaya visualisasi layar \"board(papan)\" di displaynya seperti posisi angka pada handphone/komputer.\"\n",
    "\n",
    "\n",
    "2. \"test_board = ['#','X','O','X','O','X','O','X','O','X']\" \n",
    "'Poin 2 ini digunakan untuk menghasilkan nilai 'X' dan 'O' yang digunakan dalam permainan.'\n",
    "\n",
    "A. \"PENJELASAN test_board = ['#','X','O','X','O','X','O','X','O','X']\"\n",
    "\"It is to do with the way the code has been setup, indexes run from 0. We are asking the user to input a position from 1 to 9 we are using \"#\" just to use up index position 0.\"\n",
    "\n",
    "\"Jadi, tanda '#' tuh digunakan untuk mengisi posisi \"index 0\". kenapa begitu? karena perhitungan list itu dimulai dari 'index' ke 0, sedangkan pada permainan \"tic tac toe\" itu angka yang digunakan itu 1-9.\"\n",
    "\n",
    "\"You can leave it out, but then you need to alter the code so it is asking the user for an input 0 to 8 as you will only have 8 index positions.\"\n",
    "\n",
    "['#','X','O','X','O','X','O','X','O','X']\n",
    "\n",
    "  0   1   2   3   4   5   6   7   8   9\n",
    "\n",
    "['X','O','X','O','X','O','X','O','X']\n",
    "\n",
    "  0   1   2   3   4   5   6   7   8   \n",
    "  \n",
    "3. \"display_board(test_board)\"\n",
    "\"Poin 3 ini digunakan untuk mengeksekusi fungsinya dengan memanggil 'display_borad' yang di dalamnya terdapat 'test_board' sebagai variable yang berisi nilai 'O' dan 'X' untuk memunculkan visualisasi pada \"displaynya\"\"\n",
    "\n",
    "\"Dan kalo lo copy poin 3 itu menjadi 3x, maka hasilnya itu akan MENDUPLIKASI perintah yang pertama, sehingga hasilnya akan lebih panjang, seperti ini:\"\n",
    "```"
   ]
  },
  {
   "cell_type": "code",
   "execution_count": 137,
   "id": "f7f15807",
   "metadata": {},
   "outputs": [
    {
     "name": "stdout",
     "output_type": "stream",
     "text": [
      "X|O|X\n",
      "O|X|O\n",
      "X|O|X\n",
      "X|O|X\n",
      "O|X|O\n",
      "X|O|X\n",
      "X|O|X\n",
      "O|X|O\n",
      "X|O|X\n"
     ]
    }
   ],
   "source": [
    "from IPython.display import clear_output\n",
    "\n",
    "def display_board(board):\n",
    "    \n",
    "    print(board[7]+'|'+board[8]+'|'+board[9])\n",
    "    print(board[4]+'|'+board[5]+'|'+board[6])\n",
    "    print(board[1]+'|'+board[2]+'|'+board[3])\n",
    "\n",
    "test_board = ['#','X','O','X','O','X','O','X','O','X']\n",
    "    \n",
    "display_board(test_board) \n",
    "display_board(test_board) \n",
    "display_board(test_board) "
   ]
  },
  {
   "cell_type": "markdown",
   "id": "550daff1",
   "metadata": {},
   "source": [
    "```\n",
    "\"Untuk mencegah hal itu, maka lo harus memanggil/menggunakan \"clear_output()\" di awal fungsi:\"\n",
    "```"
   ]
  },
  {
   "cell_type": "code",
   "execution_count": 138,
   "id": "08d091e6",
   "metadata": {},
   "outputs": [
    {
     "name": "stdout",
     "output_type": "stream",
     "text": [
      "X|O|X\n",
      "O|X|O\n",
      "X|O|X\n"
     ]
    }
   ],
   "source": [
    "from IPython.display import clear_output\n",
    "\n",
    "def display_board(board):\n",
    "    clear_output()\n",
    "    \n",
    "    print(board[7]+ '|' + board[8] + '|' + board[9])\n",
    "    print(board[4]+ '|' + board[5] + '|' + board[6])\n",
    "    print(board[1]+ '|' + board[2] + '|' + board[3])\n",
    "\n",
    "test_board = ['#','X','O','X','O','X','O','X','O','X']\n",
    "display_board(test_board) \n",
    "display_board(test_board) \n",
    "display_board(test_board) "
   ]
  },
  {
   "cell_type": "markdown",
   "id": "1788ecd7",
   "metadata": {},
   "source": [
    "**PENJELASAN DI ATAS**\n",
    "```\n",
    "\"Ketika lo menggunakan 'clear_output()', maka yang lo dapatkan HANYA 1 VISUAL BOARD. jadi, \"board\" visual yang akan ditampilkan seterusnya.'\n",
    "\n",
    "1. `clear_output`\n",
    "\"it is included in the beginning of the walkthrough workbook.\"\n",
    "\"As for clearing the screen, when you run a cell, you get an output. This 'clear_output()' function clears all previous output and prints the new board.\"\n",
    "\n",
    "\"Therefore, instead of seeing every previous board (i.e., previous output), you just see the most recent one.\"\n",
    "```"
   ]
  },
  {
   "cell_type": "code",
   "execution_count": 139,
   "id": "6d6cbcbc",
   "metadata": {},
   "outputs": [
    {
     "name": "stdout",
     "output_type": "stream",
     "text": [
      "   |   |\n",
      " X | O | X\n",
      "   |   |\n",
      "-----------\n",
      "   |   |\n",
      " O | X | O\n",
      "   |   |\n",
      "-----------\n",
      "   |   |\n",
      " X | O | X\n",
      "   |   |\n"
     ]
    }
   ],
   "source": [
    "#CARA LAINNYA\n",
    "\n",
    "from IPython.display import clear_output\n",
    "\n",
    "def display_board(board):\n",
    "    clear_output()  # Remember, this only works in jupyter!\n",
    "    \n",
    "    print('   |   |')\n",
    "    print(' ' + board[7] + ' | ' + board[8] + ' | ' + board[9])\n",
    "    print('   |   |')\n",
    "    print('-----------')\n",
    "    print('   |   |')\n",
    "    print(' ' + board[4] + ' | ' + board[5] + ' | ' + board[6])\n",
    "    print('   |   |')\n",
    "    print('-----------')\n",
    "    print('   |   |')\n",
    "    print(' ' + board[1] + ' | ' + board[2] + ' | ' + board[3])\n",
    "    print('   |   |')\n",
    "    \n",
    "test_board = ['#','X','O','X','O','X','O','X','O','X']\n",
    "display_board(test_board)"
   ]
  },
  {
   "cell_type": "markdown",
   "id": "9cf434e6",
   "metadata": {},
   "source": [
    "____"
   ]
  },
  {
   "cell_type": "markdown",
   "id": "6a11ca84",
   "metadata": {},
   "source": [
    "### Step 2: Write a function that can take in a player input and assign their marker as 'X' or 'O'. Think about using while loops to continually ask until you get a correct answer.\n",
    "```\n",
    "\"That's something we definitely wanted to do was to use a 'while loop' that where we can continually ask and so you get a correct answer.\"\n",
    "\n",
    "\"Jadi, di \"STEP 2\" ini lo mau membuat instruksi pada board yang menyuruh player 1 dan 2 memilih ingin menjadi X atau O.\"\n",
    "\n",
    "\"Pada 'Step 2' ini ada 2 cara yang bisa dilakukan:\"\n",
    "```"
   ]
  },
  {
   "cell_type": "code",
   "execution_count": 140,
   "id": "46351b0b",
   "metadata": {},
   "outputs": [
    {
     "name": "stdout",
     "output_type": "stream",
     "text": [
      "Player 1: Do you want to be X or O? \n",
      "Player 1: Do you want to be X or O? \n",
      "Player 1: Do you want to be X or O? \n",
      "Player 1: Do you want to be X or O? \n",
      "Player 1: Do you want to be X or O? \n",
      "Player 1: Do you want to be X or O? \n",
      "Player 1: Do you want to be X or O? \n",
      "Player 1: Do you want to be X or O? X\n"
     ]
    }
   ],
   "source": [
    "#STEP 2\n",
    "#CARA 1\n",
    "\n",
    " #OUTPUT = (Player 1 marker, Player 2 marker)   \n",
    "    \n",
    "\n",
    "def player_input():\n",
    "    \n",
    "    marker = ''\n",
    "    \n",
    "    while marker != 'X' and marker != 'O':\n",
    "        marker = input('Player 1: Do you want to be X or O? ').upper()\n",
    "\n",
    "    if marker == 'X':\n",
    "        return ('X', 'O')\n",
    "    \n",
    "    else:\n",
    "        return ('O', 'X')\n",
    "    \n",
    "player1_marker, player2_marker = player_input()"
   ]
  },
  {
   "cell_type": "code",
   "execution_count": 141,
   "id": "7729151d",
   "metadata": {},
   "outputs": [
    {
     "data": {
      "text/plain": [
       "'O'"
      ]
     },
     "execution_count": 141,
     "metadata": {},
     "output_type": "execute_result"
    }
   ],
   "source": [
    "player2_marker"
   ]
  },
  {
   "cell_type": "markdown",
   "id": "542cd42a",
   "metadata": {},
   "source": [
    "**PENJELASAN STEP 2**\n",
    "\n",
    "```\n",
    "\"Step ini berkaitan dengan step sebelumnya.\"\n",
    "\n",
    "1. \"def player_input():\"\n",
    "\"Di sini lo membuat fungsi dengan nama variable 'player_input'\"\n",
    "\n",
    "\n",
    "2. \"marker = ''\"\n",
    "\"That's a place holder, which will instantiate your variable as a string type, but will not mean anything, since an empty string is a string with no value inside.\"\n",
    "\n",
    "\"empty string means, you will create string variable without any value. For example,\"\n",
    "\n",
    "\"s = '' --> For any further task, you can use it.\"\n",
    "\n",
    "\"In the lecture, our instructor creates marker = '' variable outside the while loop and take the user input in the marker variable, if, we can not able to check the while loop statement, and we will get an error.\"\n",
    "\n",
    "\"We exert that, Because we need to instantiate it before anything. It could be any unused string\"\n",
    "\n",
    "\"Any object can be tested for truth value, for use in an if or while condition or as operand of the Boolean operations below.\"\n",
    "\n",
    "\"marker = '' --> ini tuh merupakan persyaratan awal (defalut values) yang diberikan pada fungsinya yang berisi 'empty string'\"\n",
    "\n",
    "`PENJELASAN TENTANG 'EMPTY STRING'`\n",
    "\"Jadi gini, 'empty string' itu berfungsi agar lo bisa memasukkan nilai apapun ke dalam perintahnya\"\n",
    "\n",
    "\n",
    "3. \"while marker != 'X' and marker != 'O':\"\n",
    "        \"marker = input('Player 1: Do you want to be X or O? ').upper()\"\n",
    "\n",
    "\"Jadi poin 3 ini digunakan untuk menampilkan perintah di dalam box nya.\" \n",
    "\n",
    "`Teori dulu:`\n",
    "A. \"(!=) --> merupakan simbol yang menjelaskan jika ada 2 nilai yang BERBEDA, yakni bukan merupakan X atau O, maka kondisi akan bernilai benar (True) sehingga perintah selanjutnya BISA DIEKSEKUSI.\"\n",
    "\n",
    "\"yang mana secara literal tanda '!=' ini dibaca \"not equal/tidak sama dengan\"\"\n",
    "\n",
    "B. \"Dan pada perintah --> while marker != 'X' and marker != 'O': --> itu akan bernilai benar, karena kedua nilai 'X' dan 'O' itu keduanya berbeda, sehingga PERINTAH SELANJUTNYA BISA DIEKSEKUSI`\"\n",
    "\n",
    "\n",
    "4. `marker = input('Player 1: Do you want to be X or O? ').upper()`\n",
    "\"Maksud dari isinya adalah saat 'marker' tidak sama dengan (!=) 'X' dan 'marker' tidak sama dengan 'O', maka perintah selanjutnya DAPAT DIEKSEKUSI, yakni varibale 'marker' yang di dalamnya terdapat perintah 'input' yang berisi text untuk ditampilkan di dalam 'box' nya\"\n",
    "\n",
    "A. \"(.upper)--> '.upper' di sini ditambahkan untuk berjaga-jaga jika sewaktu-waktu lo nulis huruf \"X/O\" nya dengan huruf kecil. Dengan menggunakan '.upper', maka akan secara otomatis di convert menjadi huruf besar.\"\n",
    "\n",
    "\n",
    "========POIN 3 DAN 4 INI BERKAITAN DENGAN POIN 5======== \n",
    "5. `if marker == 'X':`\n",
    "        `return ('X', 'O')`\n",
    "\n",
    "\"Poin 3 ini maksudnya, \"jika PLAYER 1 memasukkan nilai 'X', maka nilai tersebut bisa dieksekusi dan akan menghasilkan 'return' X atau O\".\"\n",
    "\n",
    "\"dengan lo melakukan 'return' X dan O, apabila \"PLAYER 1\" memasukkan nilai 'X', maka nilai \"PLAYER 2\" selanjutnya akan 'O' --> return ('X', 'O')\"\n",
    "\n",
    "\n",
    "6. `else:` \n",
    "        `return ('O', 'X')`\n",
    "\n",
    "\"Poin 4 ini maksudnya, jika \"PLAYER 1\"  melakukan hal selain poin 5, yakni \"PLAYER 1\" memasukkan nilai 'O' nya terlebih dahulu, maka nilai O akan dieksekusi sebagai nilai yang dimiliki \"PLAYER 1\", kemudian selanjutnya \"PLAYER 2\" mendapatkan nilai 'X'\"\n",
    "\n",
    "\n",
    "5. \"player1_marker, player2_marker = player_input()\" \n",
    "\"player1_marker, player2_marker --> karena lo ingin membuat sebuah game yang dapat dimainkan oleh 2 orang, maka lo membuat VARIABLE BARU yang bernama \"player1_marker\" dan \"player2_marker\"\"\n",
    "\n",
    "\"player1_marker, player2_marker = player_input() TIDAK SAMA DENGAN player_input() = player1_marker, player2_marker\"\n",
    "\n",
    "`KENAPA BEGITU?`  \n",
    "\"karena player1_marker, player2_marker itu merupakan varible baru yang tidak ada fungsinya. jadi, player_input itu TIDAK AKAN BISA SAMA DENGAN dengan player 1 dan 2, tapi player 1 dan 2 BISA DIASUMSIKAN SAMA DENGAN player input.\"\n",
    "\n",
    "\"\"player1_marker dan player2_marker\" ini dijadikan SAMA DENGAN (=) 'player_input' karena kedua variable ini kan merupakan variable baru. untuk itu, kalo lo ingin mengaitkan kedua variable baru itu, lo harus menyatakan keduanya sebagai suatu nama fungsi, yakni 'player_input()'\"\n",
    "\n",
    "\"jadi ada 2 player YANG DIINPUT.\"\n",
    "```"
   ]
  },
  {
   "cell_type": "code",
   "execution_count": 142,
   "id": "ea08d488",
   "metadata": {},
   "outputs": [
    {
     "name": "stdout",
     "output_type": "stream",
     "text": [
      "Player 1: Do you want to be X or O? x\n"
     ]
    }
   ],
   "source": [
    "#STEP 2\n",
    "#CARA 2\n",
    "\n",
    "def player_inpupt():\n",
    "    marker = ''\n",
    "    \n",
    "    while not (marker == 'X' or marker == 'O'):\n",
    "        marker = input('Player 1: Do you want to be X or O? ').upper()\n",
    "\n",
    "    if marker == 'X':\n",
    "        return ('X', 'O')\n",
    "    else:\n",
    "        return ('O', 'X')\n",
    "\n",
    "player1_marker, player2_marker = player_input()"
   ]
  },
  {
   "cell_type": "code",
   "execution_count": 143,
   "id": "1172a0a2",
   "metadata": {},
   "outputs": [
    {
     "data": {
      "text/plain": [
       "'O'"
      ]
     },
     "execution_count": 143,
     "metadata": {},
     "output_type": "execute_result"
    }
   ],
   "source": [
    "player2_marker"
   ]
  },
  {
   "cell_type": "markdown",
   "id": "b0539343",
   "metadata": {},
   "source": [
    "**PERBEDAAN CARA 1 DAN 2 PADA STEP 2**\n",
    "```\n",
    "\"perbedaan yang ada di step 1 dan 2 hanya ada di bagian  \"while not (marker == 'X' or marker == 'O'):\"\"\n",
    "\n",
    "\"Yang mana pada \"STEP 2\" itu menyatakan:\" \n",
    "\"We only want to be in the while loop if marker is not 'X' or 'O', so we start with marker = '' that ensures that the loop will be entered at least once. If the user chooses 'X' or 'O', then the while-condition will be False, and we exit the loop. If the user chooses anything else, we stay in the loop until the user makes a correct choice.\"\n",
    "\n",
    "\"Jadi, selama lo memasukkan nilai SELAIN 'X' dan 'O', maka akan terus muncul box yang berisi perintah \"Player 1: Do you want to be X or O?\"\"\n",
    "\n",
    "\"Karena itu lah diawalnya lo menuliskan 'NOT'. Maksudnya, jika yang lo masukkan BUKAN (NOT) 'X' atau 'O', maka variable 'marker' akan dimasukkan (input) argumen \"Player 1: Do you want to be X or O?\" sampai pemain(player) memasukkan nilai 'X' atau 'O'\"\n",
    "```"
   ]
  },
  {
   "cell_type": "markdown",
   "id": "1cf1976b",
   "metadata": {},
   "source": [
    "___"
   ]
  },
  {
   "cell_type": "markdown",
   "id": "686d8049",
   "metadata": {},
   "source": [
    "### Step 3: Write a function that takes in the board list object, a marker ('X' or 'O') a desired position (number 1-9) and assigns it to the board.\n",
    "\n",
    "```\n",
    "\"Jadi pada step 3 ini lo mau memunculkan/mengambil kembali board list yang ada di \"STEP 1 (test_board)\" dan dapat mengakses nomor yang ada di 'list_board' itu (entah itu diganti object angkanya, dihapus, dll)\"\n",
    "\n",
    "\"Let's do this!\"\n",
    "```"
   ]
  },
  {
   "cell_type": "code",
   "execution_count": 144,
   "id": "77748668",
   "metadata": {},
   "outputs": [],
   "source": [
    "#STEP 3\n",
    "\n",
    "def place_marker(board, marker, position):\n",
    "    board[position] = marker"
   ]
  },
  {
   "cell_type": "code",
   "execution_count": 145,
   "id": "e3099b10",
   "metadata": {},
   "outputs": [
    {
     "data": {
      "text/plain": [
       "['#', 'X', 'O', 'X', 'O', 'X', 'O', 'X', 'O', 'X']"
      ]
     },
     "execution_count": 145,
     "metadata": {},
     "output_type": "execute_result"
    }
   ],
   "source": [
    "test_board"
   ]
  },
  {
   "cell_type": "code",
   "execution_count": 146,
   "id": "ca707d8a",
   "metadata": {},
   "outputs": [
    {
     "name": "stdout",
     "output_type": "stream",
     "text": [
      "   |   |\n",
      " X | $ | X\n",
      "   |   |\n",
      "-----------\n",
      "   |   |\n",
      " O | X | O\n",
      "   |   |\n",
      "-----------\n",
      "   |   |\n",
      " X | O | X\n",
      "   |   |\n"
     ]
    }
   ],
   "source": [
    "place_marker(test_board, '$', 8)\n",
    "display_board(test_board)"
   ]
  },
  {
   "cell_type": "markdown",
   "id": "b9628b2e",
   "metadata": {},
   "source": [
    "**PENJELASAN STEP 3**\n",
    "```\n",
    "\"Step ini berkaitan dengan step-step sebelumnya.\"\n",
    "\n",
    "1. `def place_marker(board, marker, position):`\n",
    "\"lo membuat fungsi dengan nama 'marker' menggunakan nama variable 'board', 'marker', dan 'position'. Di sini tuh cuman untuk menerangkan bahwasanya pada index ke-0 itu untuk menampilakan 'board'nya, index ke-1 untuk 'marker' atau penanda yang dimasukkan untuk mengganti isi listnya, index ke-2 itu untuk menunjukkan posisi yang mau 'dimarker'\"\n",
    "\n",
    "2. `board[position] = marker`\n",
    "\"Poin 2 ini maksudnya, lo mau menampilkan 'boardnya' dengan mengakses \"posisinya\" yang mana itu merupakan tempat list di 'marker' atau DIGANTI dengan memasukkan argumen baru\"\n",
    "\n",
    "3. `test_board`\n",
    "\"Di sini lo mau menampilkan 'test_board' pada \"STEP 1\" yang di dalamnya berisi 'list' yang ada di dalam \"boardnya\"\"\n",
    "\n",
    "4. `place_marker(test_board, '$', 8)`\n",
    "Poin 4 ini berkaitan dengan \"poin 1\" yang mana:\n",
    "\n",
    "\"test_board --> menjadi \"board\" untuk menampilkan \"board list\" nya\"\n",
    "    \"'$'    --> menjadi \"marker\" untuk menimpa isi listnya. isi argumennya gak harus '$' BISA APA AJA TERSERAH LOOO \"   \n",
    "\n",
    "     \"8     --> menjadi \"position\" untuk menentukan posisi mana yang mau diubah dan memasukkan argumen baru\"\n",
    "```"
   ]
  },
  {
   "cell_type": "markdown",
   "id": "b3806913",
   "metadata": {},
   "source": [
    "____"
   ]
  },
  {
   "cell_type": "markdown",
   "id": "ae61c0d1",
   "metadata": {},
   "source": [
    "### Step 4: Write a function that takes in a board and a mark (X or O) and then checks to see if that mark has won.\n",
    "```\n",
    "\"Di sini lo mau menulis fungsi untuk mengambil atau menampilkan board yang sudah diisi argumen(mark), lalu lo mau ngecek KOMBINASI YANG SEPERTI APA YANG MENYATAKAN KALO DIA ITU MENANG (WIN)!!!\"\n",
    "\n",
    "\"Jadi kan gini, konsep dari permainan \"TIC TAC TOE\" itu dikatakan menang,jika:\"\n",
    "1. \"Semua huruf 'O'atau 'X' BERJEJER dalam satu \"baris\", atau\" \n",
    "2. \"Semua huruf huruf 'O'atau 'X' BERJEJER dalam satu \"kolom\", atau\"\n",
    "3. \"Semua huruf 'O'atau 'X' BERJEJER dalam satu \"diagonal\" kanan atau kiri.\"\n",
    "```"
   ]
  },
  {
   "cell_type": "code",
   "execution_count": 147,
   "id": "bc497396",
   "metadata": {},
   "outputs": [],
   "source": [
    "#STEP 4\n",
    "\n",
    "def win_check(board,mark):\n",
    "    \n",
    "    return ((board[7] == mark and board[8] == mark and board[9] == mark) or # across the top\n",
    "    (board[4] == mark and board[5] == mark and board[6] == mark) or # across the middle\n",
    "    (board[1] == mark and board[2] == mark and board[3] == mark) or # across the bottom\n",
    "    (board[7] == mark and board[4] == mark and board[1] == mark) or # down the left side\n",
    "    (board[8] == mark and board[5] == mark and board[2] == mark) or # down the middle\n",
    "    (board[9] == mark and board[6] == mark and board[3] == mark) or # down the right side\n",
    "    (board[7] == mark and board[5] == mark and board[3] == mark) or # diagonal\n",
    "    (board[9] == mark and board[5] == mark and board[1] == mark)) # diagonal"
   ]
  },
  {
   "cell_type": "code",
   "execution_count": 148,
   "id": "f3e449b0",
   "metadata": {},
   "outputs": [
    {
     "name": "stdout",
     "output_type": "stream",
     "text": [
      "   |   |\n",
      " X | $ | X\n",
      "   |   |\n",
      "-----------\n",
      "   |   |\n",
      " O | X | O\n",
      "   |   |\n",
      "-----------\n",
      "   |   |\n",
      " X | O | X\n",
      "   |   |\n"
     ]
    },
    {
     "data": {
      "text/plain": [
       "True"
      ]
     },
     "execution_count": 148,
     "metadata": {},
     "output_type": "execute_result"
    }
   ],
   "source": [
    "display_board(test_board)\n",
    "win_check(test_board,'X')"
   ]
  },
  {
   "cell_type": "markdown",
   "id": "bff4e543",
   "metadata": {},
   "source": [
    "**PENJELASAN STEP 4**\n",
    "```\n",
    "\"Pada step 4 ini, lo mau melihat bagaimana kondisi jika perminan \"tic tac toe\" itu bisa dikatakan \"menang.\"\"\n",
    "\n",
    "\"Step ini berkaitan dengan step-step sebelumnya.\"\n",
    "\n",
    "1. def win_check(board,mark):\n",
    "\"Jadi, lo mau membuat suatu fungsi untuk melihat \"siapa yang menang\" dengan variable 'win_check' yang di dalamnya terdapat variable/element 'board' dan 'mark' \n",
    "\n",
    "\"nama variable/element 'board' dan 'merk' itu BISA DIGANTI APA SAJA SESUKA LO. karena itu cuman variable \"pembantu\" yang nantinya untuk menunjukkan index posisi mana yang mau dieksekusi (berkaitan dengan poin 4)\"\"\n",
    "\n",
    "2. \"return ((board[7] == mark and board[8] == mark and board[9] == mark) or # across the top\"\n",
    "    \"(board[4] == mark and board[5] == mark and board[6] == mark) or # across the middle\"\n",
    "    \"(board[1] == mark and board[2] == mark and board[3] == mark) or # across the bottom\"\n",
    "    \"(board[7] == mark and board[4] == mark and board[1] == mark) or # down the middle\"\n",
    "    \"(board[8] == mark and board[5] == mark and board[2] == mark) or # down the middle\"\n",
    "    \"(board[9] == mark and board[6] == mark and board[3] == mark) or # down the right side\"\n",
    "    \"(board[7] == mark and board[5] == mark and board[3] == mark) or # diagonal\"\n",
    "    \"(board[9] == mark and board[5] == mark and board[1] == mark)) # diagonal\"\n",
    "    \n",
    "\"Poin 2 ini lo mau membuat simulasi angka yang ada di handphone ketika pemain ingin menandakan (mark) pilihan 'X' ATAU 'O' ke dalam permainan. Yang mana permainan \"tic tac toe\" itu akan dikatakan menang jika 3 deret posisi (kanan, kiri, atas, bawah, diagonal dari atas, diaganonal dari bawah) itu sejajar SAMA SEMUA 'X' ATAU 'O'\"\n",
    "\n",
    "\"Poin 2 ini keliatannya ribet, cuman kalo lo perhatiin baik-baik, itu lo cuman membuat fungsi yang mensimulasikan posisi angka yang ada di layar \"hanphone\"\"\n",
    "\n",
    "3. `display_board(test_board)`\n",
    "\"Jadi, pada poin 3 tuh lo ingin mengakses kembali fungsi 'display_board (test_board)' yang ada di \"STEP 1\"\"\n",
    "\n",
    "4. `win_check(test_board,'X')`\n",
    "\"Poin 3 ini, lo mau mengeksekusi sekaligus memeriksa apakah nilai 'X' pada permainan \"tic tac toe\" ini menang dari fungsi yang sudah dibuat. \"\n",
    "\n",
    "\"yang mana ini tuh maksudnya, fungsi 'win_check' dengan mengakses variable 'test_board' yang ada di 'STEP 1' dan ketika diberikan argumen 'X' maka hasilnya adalah 'True' alias, dia MENANG.\"\n",
    "```"
   ]
  },
  {
   "cell_type": "markdown",
   "id": "14c643dc",
   "metadata": {},
   "source": [
    "### Step 5: Write a function that uses the random module to randomly decide which player goes first. You may want to lookup random.randint() Return a string of which player went first.\n",
    "```\n",
    "\"Jadi pada step 5 ini lo mau menentukan Player mana yang jalan lebih dahulu. Jadi pada \"step 5\" ini lo mau membuat simulasi seperti \"coin flip\" untuk menentukan Player mana yang jalan duluan.\"\n",
    "\n",
    "`MATERI DULU`\n",
    "\n",
    "1. \"The random module is a built-in module to generate the pseudo-random variables. It can be used perform some action randomly such as to get a random number, selecting a random elements from a list, shuffle elements randomly, etc\"\n",
    "\n",
    "2. \"random.random\" \"itu merupakan metode yang menghasilkan nilai pecahan secara acak dari 0 sampai 1. Fungsi ini tidak membutuhkan argumen apa-apa di dalamnya.\"\n",
    "\n",
    "3. \"random.randint()\" \"ini menghasilkan dengan tipe data integer yang berada pada rentang yang telah ditentukan.\"\n",
    "\n",
    "\"randint()\" \"is an inbuilt function of the random module in Python3. The random module gives access to various useful functions and one of them being able to generate random numbers, which is randint().\"\n",
    "\n",
    "\"Now, one way we can use the 'random.randint()' to passed 0 and 1, and treat that as what is essentially a \"coin flip\"\"\n",
    "\n",
    "\"So we can see the following:\"\n",
    "```"
   ]
  },
  {
   "cell_type": "code",
   "execution_count": 149,
   "id": "6faf835c",
   "metadata": {},
   "outputs": [],
   "source": [
    "#STEP 5\n",
    "\n",
    "import random\n",
    "\n",
    "def choose_first():\n",
    "    \n",
    "    flip = random.randint(0,1)\n",
    "    \n",
    "    if flip == 0:\n",
    "        return 'Player 1'\n",
    "    else:\n",
    "        return 'Player 2'"
   ]
  },
  {
   "cell_type": "markdown",
   "id": "ed8a1323",
   "metadata": {},
   "source": [
    "**PENJELASAN STEP 5**\n",
    "```\n",
    "\"Jadi, pada poin 5 ini lo mau menentukan Player mana yang jalan lebih dahulu. Jadi pada \"step 5\" ini lo mau membuat simulasi seperti \"coin flip\" untuk menentukan Player mana yang jalan duluan.\"\n",
    "\n",
    "1. \"import random\"\n",
    "\"Karena lo ingin membuat simulasi seperti \"coin flip\", itu kan berarti \"angka/gambar\" nya bisa muncul secara acak dan gak tentu (random). untuk itu, sebelum lo membuat simulasi fungsinya, lo terlebih dahulu HARUS \"mengimport\" module 'random' yang ada di python.\"\n",
    "\n",
    "\n",
    "2. \"def choose_first():\"\n",
    "\"lo bikin variable fungsi dengan nama 'choose_first'\"\n",
    "\n",
    "\n",
    "3. \"flip = random.randint(0,1)\"\n",
    "\"Di sini lo membuat 'dafault value' yang digunakan untuk mensimulasikan \"coin flip\" nya, sehingga lo mnggunakan 'random.randint' untuk mengolah kemungkinan acaknya. Angka 0 dan 1 ini cuman sample aja. kalo lo mau ganti pake angka lain ya bisa aja\"\n",
    "\n",
    "\n",
    "4. \"if flip == 0:\"\n",
    "        \"return 'Player 1'\"\n",
    "\"Poin 4 ini maksudnya, '\"jika flipnya muncul angka 0, maka \"Player 1\" jalan pertama.\"'\n",
    "\n",
    "\n",
    "5. \"else:\"\n",
    "        \"return 'Player 2'\"\n",
    "\"Poin 5 ini maksudnya, '\"Jika flipnya yang muncul selain angka 0, yakni 1, maka \"Player 2\" yang akan jalan pertama.\"'\n",
    "\n",
    "\"'return' digunakan untuk giliran 'Player 2'\"\n",
    "```"
   ]
  },
  {
   "cell_type": "markdown",
   "id": "2dbf05f8",
   "metadata": {},
   "source": [
    "____"
   ]
  },
  {
   "cell_type": "markdown",
   "id": "fe7017fe",
   "metadata": {},
   "source": [
    "### Step 6: Write a function that returns a boolean indicating whether a space on the board is freely available.\n",
    "```\n",
    "\"So, it's going to take in that board which has a list and then taken a position in it wants to check if it's freely available. In our case freely available means that position is currently an empty string.\"\n",
    "\n",
    "\"Jadi pada \"step 6\" ini lo mau membuat fungsi 'boolean' yang diindikasikan \"apakah ada ruang kosong pada board 'tic tac toe' yang bisa diisi oleh para pemain\"\"\n",
    "```"
   ]
  },
  {
   "cell_type": "code",
   "execution_count": 150,
   "id": "07dbf70a",
   "metadata": {},
   "outputs": [],
   "source": [
    "#STEP 6\n",
    "\n",
    "def space_check(board, position):\n",
    "    \n",
    "    return board[position] == ' '"
   ]
  },
  {
   "cell_type": "markdown",
   "id": "6d138048",
   "metadata": {},
   "source": [
    "**PENJELASAN STEP 6**\n",
    "```\n",
    "\"jadi pada \"step 6\" ini lo mau membuat fungsi 'boolean' yang diindikasikan \"apakah ada ruang kosong pada board 'tic tac toe' yang bisa diisi oleh para pemain\"\"\n",
    "\n",
    "1. \"def space_check(board, position):\"\n",
    "\"Jadi lo bikin suatu fungsi untuk mengechek \"apakah ada ruang kosong pada board 'tic tac toe' yang bisa diisi oleh para pemain\"\"\n",
    "\n",
    "\"Variable pada fungsi ini adalah 'space_check' yang di dalamnya terdapat elemen 'board' dan 'position' yang akan di akases oleh fungsi 'space_check'\"\n",
    "\n",
    "\"Variable 'board' dan 'position' di sini tuh bisa diganti apa aja SESUKA LO.\"\n",
    "\n",
    "\"'board' di sini nanti nilainya akan dimasukkan di akhir.\"\n",
    "\n",
    "2. \"return board[position] == ' '\"\n",
    "\"Setelah itu, di sini lo cuman bikin \"default value\" untuk melakukan 'return' ketika 'board' mengakses 'position' nya\"\n",
    "\n",
    "A. \"return\"\n",
    "\"Di sini lo menggunakan 'return' untuk menghasilkan nilai menjadi 'boolean' sehingga dia nantinya akan menghasilkan 'True' or 'False' ketika pemain memasukkan argumen X atau O\"\n",
    "\n",
    "B. \"board[position]\"\n",
    "\"karena permainan \"tic tac toe\" itu menggunakan papan (board) berarti lo harus menggunakan papannya (board) untuk mengakses posisinya (position) agar lo tau nih, \"di dalam papan (board) 'tic tac toe' posisinya (position) yang kosong ada di mana aja\"\"\n",
    "\n",
    "' ' --> \"ini juga termasuk empty string, cuman ini tuh empty string yang menggunakan \"whitespace\" yang mana pada bab ini digunakan untuk mengetahui jika ada posisi kosong yang ada di dalam boardnya. Sehingga, itu lah alasannya kenapa lo menggunakan spasi.\"\n",
    "```"
   ]
  },
  {
   "cell_type": "markdown",
   "id": "d69f6354",
   "metadata": {},
   "source": [
    "____"
   ]
  },
  {
   "cell_type": "markdown",
   "id": "00714968",
   "metadata": {},
   "source": [
    "### Step 7: Write a function that checks if the board is full and returns a boolean value. True if full, False otherwise.\n",
    "```\n",
    "\"Jadi pada step 7 ini lo mau meriksa \"bagaimana kalo board pada permainan tic tac toe itu sudah penuh\"\"\n",
    "\n",
    "\"ketika sudah penuh, maka lo bisa menggunkan 'return' untuk menghasilkan \"boolean value\" sehingga nantinya akan menghasilkan \"True, jika penuh\" dan \"False, jika masih kosong\"\"\n",
    "```"
   ]
  },
  {
   "cell_type": "code",
   "execution_count": 151,
   "id": "6e3cf2f3",
   "metadata": {},
   "outputs": [],
   "source": [
    "#STEP 7\n",
    "\n",
    "def full_board_check(board):\n",
    "    \n",
    "    for i in range (1,10):\n",
    "        if space_check(board,i):\n",
    "            return False\n",
    "    \n",
    "    #BOARD IS FULL AND WE RETURN TRUE\n",
    "    return True "
   ]
  },
  {
   "cell_type": "markdown",
   "id": "3e149702",
   "metadata": {},
   "source": [
    "**PENJELASAN STEP 7**\n",
    "```\n",
    "\"Jadi pada step 7 ini lo mau meriksa \"bagaimana kalo board pada permainan tic tac toe itu sudah penuh\"\"\n",
    "\n",
    "1. \"def full_board_check(board\"\n",
    "\"Karena di sini lo menampilkan jika \"board\" pada permainan \"tic tac toe\" nya sudah penuh, maka variable fungsi \"full_board_check\" di sini menggunakan elemen 'board' untuk menampilkannya\"\n",
    "\n",
    "\"kenapa gak menggunakan 'position'?`\"\n",
    "\"karena di sini lo cuman ingin menampilkan hasil jika papan permainannya (board) SUDAH PENUH.\"\n",
    "\n",
    "2. \"for i in range (1,10\"\n",
    "\"Di sini lo mengunakan looping 'for' karena:\"\n",
    "\"INGET! for digunakan untuk mengulangi kode yang sudah diketahui banyak perulangannya.\"\n",
    "\n",
    "\"karena lo sudah tau bahwasanya 'range (1,10)' maka dari itu lo menggunakan looping 'for'\"\n",
    "\n",
    "\"kenapa angkanya: 1,10\"\n",
    "\"karena angka yang lo inginkan dalam game ini tuh cuman angka 1-9.\"\n",
    "\n",
    "\"Dan alasan kenapa ada angka 10 karena\"\n",
    "\"INGET! kalo list angka yang ada di dalam 'tuple' itu dibacanya \"dari angka 1 sampe sebelum angka 10, yakni is 9\"\"\n",
    "\n",
    "3. \"if space_check(board,i\"\n",
    "            \"return False\"\n",
    "\n",
    "\"Di poin 3 ini lo menggunakan fungsi yang ada di \"STEP 6\", yaitu 'space_check' untuk mengetahui bahwasanya jika masih ada ruang kosong pada 'board tic tac toe', maka itu berarti salah. Untuk itu, lo bisa melakukan return \"False\"\"\n",
    "\n",
    "\"Kenapa salah dan melakukan 'return False'?\"\n",
    "\"itu karena pada \"STEP 7\" ini yang diinginkan adalah \"Jika board pada game itu SUDAH TERISI PENUH\" \n",
    "\n",
    "\"jadi logikanya, kalo dia masih ada yang kosong (space_check) berarti ya dia SALAH (False). Padahal, dia sudah PENUH.\"\n",
    "\n",
    "A. \"space_check\"\n",
    "\"Di sini tuh lo menggunakan 'space_check' yang merupakan variable fungsi yang ada di \"STEP 6\" untuk memeriksa apakah 'board' nya masih kosong apa enggak.\"\n",
    "\n",
    "\"Untuk itu, 'space_check' di sini mengakses 'board' untuk menampilkan papannya (boardnya) dan 'i' untuk memasukkan angkanya dari 1-9. Sehingga, ketika angkanya sudah dimasukkan semua, itu berarti 'space_check' yang ada di \"STEP 6\" itu bernilai SALAH (False).\"\n",
    "\n",
    "4. \"return True\"\n",
    "\"di sini lo melakukan 'return True' yang dimaksudkan untuk \"apabila memang sudah tidak ada ruang kosong pada dashboardnya, maka berarti benar kalo dashboardnya itu sudah penuh\"\"\n",
    "```"
   ]
  },
  {
   "cell_type": "markdown",
   "id": "50c11e8e",
   "metadata": {},
   "source": [
    "____"
   ]
  },
  {
   "cell_type": "markdown",
   "id": "e5584a27",
   "metadata": {},
   "source": [
    "### Step 8: Write a function that asks for a player's next position (as a number 1-9) and then uses the function from \"step 6\" to check if its a free position. If it is, then return the position for later use."
   ]
  },
  {
   "cell_type": "code",
   "execution_count": 152,
   "id": "8227987f",
   "metadata": {},
   "outputs": [],
   "source": [
    "#STEP 8\n",
    "\n",
    "def player_choice (board):\n",
    "    \n",
    "    position = 0\n",
    "\n",
    "    while position not in [1,2,3,4,5,6,7,8,9] or not space_check (board, position):\n",
    "        \n",
    "        position = int(input('Check a position: (1-9)'))\n",
    "    \n",
    "    return position"
   ]
  },
  {
   "cell_type": "markdown",
   "id": "fab3c7c6",
   "metadata": {},
   "source": [
    "**PENJELASAN STEP 8**\n",
    "```\n",
    "\"Pada \"STEP 8\" ini lo ingin membuat fungsi yang digunakan untuk meminta pemain memasukkan angka selanjutnya untuk melanjutkan permainan yang mana itu berarti lo harus kembali melihat dan mengakses apa yang ada di \"STEP 6\" untuk melihat kalo masih ada ruang kosong di \"boardnya.\" jika masih ada yang kosong, maka lo bisa melakukan 'return' posisi (position) dan permainan akan dilanjutkan untuk posisi selanjutnya.\"\n",
    "\n",
    "1. \"def player_choice (board):\"\n",
    "\"lo membuat fungsi dengan variable name 'player_choice' yang mengakses papannya (boardnya)\"\n",
    "\n",
    "2.\"position = 0\"\n",
    "\"lo membuat default value 'position = 0' terlebih dahulu.\"\n",
    "\n",
    "\"kenapa pake angka 0?\"\n",
    "\"karena index 0 itu tidak digunakan apa-apa pada kasus ini. lo hanya menggunakan angka 1-9.\"\n",
    "\n",
    "3. \"while position not in [1,2,3,4,5,6,7,8,9] or not space_check (board, position):\"\n",
    "\n",
    "\"poin 3 ini lo ingin melooping menggunakan 'while' untuk jika angka yang dimasukkan tidak ada di dalam range [1,2,3,4,5,6,7,8,9] atau jika sudah tidak ada \"space kosong\" di dalam \"boardnya\"\"\n",
    "\n",
    "\"kenapa menggunakan while?\"\n",
    "\"sebenernya ada banyak cara untuk mengerjakan case ini. lo bisa pake cara apa aja asalkan semua perintah dapat diselesaikan.\"\n",
    "\n",
    "\"cuman, pada \"STEP 8\" ini lo menggunakan while karena gini:\"\n",
    "\n",
    "\"Di awal lo udah menuliskan 'default value' bahwasanya 'position = 0' yang mana kalo menggunakan 'while' itu emang BIASANYA PERHITUNGANNYA DI MULAI DARI NOL.\"\n",
    "\n",
    "\"yang mana balik lagi ke tujuan awal lo di \"STEP 8\" ini bahwasanya lo ingin pemain/player melanjutkan permainannya dengan memasukkan nilai pada board gamenya.\"\n",
    "\n",
    "\"dalam case ini, ada 2 cara yang digunakan untuk memenuhi tujuan dari \"STEP 8\" ini:\"\n",
    "\n",
    "A. \"kalo posisi (position) angka yang akan dimasukkan itu  tidak ada (not) di dalam [1,2,3,4,5,6,7,8,9]\"\n",
    "\n",
    "\"ATAU\"\n",
    "\n",
    "B. \"jika 'space_check' yang ada di \"STEP 6\" itu salah. alias, sudah penuh.\" \n",
    "\n",
    "\"lo menggunakan 'while' pada 'while position not in [1,2,3,4,5,6,7,8,9]' di sini karena 'position = 0', yang berarti emang bener bahwasanya 'position' yang bernilai 0 itu emang gak ada di dalam range tersebut, sehingga dia akan terus melakukan looping terhadap dirinya sendiri (while definition) terus menerus.\"\n",
    "\n",
    "\"untuk menghentikan looping yang secara terus menerus (while definition), maka lo bisa menghentikannya dengan melakukan perintah selanjutnya untuk dieksekusi, yakni:\" \n",
    "\n",
    "4. \"position = int(input('Check a position: (1-9)'))\"\n",
    "\"di sini lo menggunakan 'position' untuk menghentikan looping yang terus menerus (while)\"\n",
    "\n",
    "\"int\" --> \"digunakan untuk mengonversi dari tipe data 'string' menjadi 'integer'\"\n",
    "\n",
    "5. \"return position\"\n",
    "\"setelah lo membuat perumusan di dalam looping 'while' dan ketika tidak ada yang memenuhi, maka lo bisa melakukan 'return position'\"\n",
    "\n",
    "\"indentasi 'return position' ini sejajar dengan 'while' dan \"Default value\" karena ketika looping 'while' tidak memenuhi hasil yang diinginkan, maka lo bisa melakukan perintah lain di luar looping 'while', yakni 'return position'.\"\n",
    "\n",
    "\"Jadi pada \"STEP 8\" ini bisa dieksekusi ketika lo sudah ngecek/mengeksekusi \"STEP 7\", kalau sudah penuh, maka lo tidak bisa melanjutkan permainan (STEP 8 tidak dieksekusi).\"\n",
    "```"
   ]
  },
  {
   "cell_type": "markdown",
   "id": "7619eb9a",
   "metadata": {},
   "source": [
    "____"
   ]
  },
  {
   "cell_type": "markdown",
   "id": "72bd52c1",
   "metadata": {},
   "source": [
    "### Step 9: Write a function that asks the player if they want to play again and returns a boolean True if they do want to play again."
   ]
  },
  {
   "cell_type": "code",
   "execution_count": 153,
   "id": "b2b391fa",
   "metadata": {},
   "outputs": [],
   "source": [
    "#STEP 9\n",
    "\n",
    "def replay ():\n",
    "    \n",
    "    choice = input(\"Play again? Enter Yes or No\")\n",
    "    \n",
    "    return choice == 'Yes'"
   ]
  },
  {
   "cell_type": "markdown",
   "id": "9692b8d6",
   "metadata": {},
   "source": [
    "\"**PENJELASAN STEP 9**\n",
    "```\n",
    "\"Jadi, ketika \"STEP 6\" digunakan untuk melihat isi board yang kosong, \"STEP 7\" digunakan untuk melihat apabila board itu sudah penuh, maka \"STEP 8\" itu digunakan untuk pemain memasukkan pilihan X/O saat board pada \"STEP 6\" masih kosong dan saat fungsi yang ada di \"STEP 7\" itu tidak benar, alias BELUM PENUH.\"\n",
    "\n",
    "\"Namun, ketika ternyata sudah penuh, maka lo bisa meminta pemain untuk memulai permainan lagi atau enggak. Hal itu dirumuskan pada \"STEP 9\" ini:\"\n",
    "\n",
    "\"STEP 9\"\n",
    "\"Nah, pada \"STEP 9\" ini, lo mau membuat fungsi untuk meminta pemain(player) kalo dia ingin memulai permainan yang baru lagi.\"\n",
    "\n",
    "1. \"def replay ():\"\n",
    "'Poin 1 ini lo mau membuat fungsi dengan nama variable \"replay\"'\n",
    "\n",
    "2. \"choice = input(\"Play again? Enter Yes or No\")\"\n",
    "\"Poin 2 ini lo membuat 'Default Value' yang diberi nama 'choice' yang isi boxnya ada perintah (input) untuk menanyakan apakah mau melanjutkan permainan atau enggak.\"\n",
    "\n",
    "3. \"return choice == 'Yes'\"\n",
    "\"Jika pada poin 2 jawabannya adalah \"Yes\" maka variable 'choice' akan direturn.\"\n",
    "```"
   ]
  },
  {
   "cell_type": "markdown",
   "id": "1df044d7",
   "metadata": {},
   "source": [
    "_____"
   ]
  },
  {
   "cell_type": "markdown",
   "id": "0e2d910a",
   "metadata": {},
   "source": [
    "### Step 10: Here comes the hard part! Use while loops and the functions you've made to run the game!\n",
    "```\n",
    "\"Yang harus lo buat terlebih dahulu:\"\n",
    "\n",
    "1. \"WHILE LOOP TO KEEP RUNNING THE GAME\"\n",
    "\n",
    "2. \"BREAK OUT OF THE WHILE LOOP ON 'replay()'\"\n",
    "\"So, remember the 'replay' function just asked if they want to play again.\" \n",
    "\"If they won't play again, we'll break out of 'while loop' (point 1) that continually runs the game.\"\n",
    "\n",
    "\"Jadi pada \"STEP 10\" ini lo akan melibatkan semua step dari \"STEP 1\" SAMPE \"STEP 9\"\"\n",
    "```"
   ]
  },
  {
   "cell_type": "code",
   "execution_count": 158,
   "id": "e0f143c7",
   "metadata": {},
   "outputs": [
    {
     "name": "stdout",
     "output_type": "stream",
     "text": [
      "   |   |\n",
      " X | O | X\n",
      "   |   |\n",
      "-----------\n",
      "   |   |\n",
      " X | O | O\n",
      "   |   |\n",
      "-----------\n",
      "   |   |\n",
      " O | X | O\n",
      "   |   |\n",
      "TIE GAME!\n",
      "Play again? Enter Yes or NoNo\n"
     ]
    }
   ],
   "source": [
    "#WHILE LOOP TO KEEP RUNNING THE GAME\n",
    "\n",
    "print('Welcome to Tic Tac Toe')\n",
    "\n",
    "while True:\n",
    "    \n",
    "    #1. SET EVERYTHING UP (BOARD, WHO FIRST, CHOOSE MARKERS X/O)\n",
    "    the_board = [' ']*10 #nanti cek kalo gak pake spasi gimana terus kenapa dikali 10?\n",
    "    player1_marker, player2_marker = player_input()\n",
    "    \n",
    "    turn = choose_first()\n",
    "    print(turn + ' will go first')\n",
    "    \n",
    "    #2. GAME PLAY\n",
    "    play_game = input('Ready to play? Y or N')\n",
    "    \n",
    "    if play_game == 'Y':\n",
    "        game_on = True\n",
    "    else:\n",
    "        game_on = False\n",
    "    \n",
    "    while game_on:\n",
    "        \n",
    "    #3. PLAYER ONE TURN\n",
    "        if turn == 'Player 1':\n",
    "            \n",
    "            # Show the board\n",
    "            display_board(the_board)\n",
    "            \n",
    "            # Choose a position\n",
    "            position = player_choice (the_board)\n",
    "             \n",
    "            # Place the marker on the position \n",
    "            place_marker(the_board, player1_marker, position)\n",
    "            \n",
    "            # Check if player 1 won\n",
    "            if win_check(the_board, player1_marker):\n",
    "                display_board(the_board)\n",
    "                print('PLAYER 1 HAS WON!')\n",
    "                game_on = False\n",
    "               \n",
    "            else:   \n",
    "                \n",
    "            # or check if there is a tie\n",
    "                if full_board_check(the_board):\n",
    "                    display_board(the_board)\n",
    "                    print('TIE GAME!')\n",
    "                    game_on = False\n",
    "            \n",
    "            #Player 2 is turn\n",
    "                else:\n",
    "                    turn = 'Player 2'\n",
    "        \n",
    "        #No tie and no win? Then next player's turn    \n",
    "        \n",
    "        else:\n",
    "        \n",
    "    #4. PLAYER TWO TURN\n",
    "            # Show the board\n",
    "            display_board(the_board)\n",
    "            \n",
    "            # Choose a position\n",
    "            position = player_choice (the_board)\n",
    "             \n",
    "            # Place the marker on the position \n",
    "            place_marker(the_board, player2_marker, position)\n",
    "            \n",
    "            # Check if player 1 won\n",
    "            if win_check(the_board, player2_marker):\n",
    "                display_board(the_board)\n",
    "                print('PLAYER 2 HAS WON!')\n",
    "                game_on = False\n",
    "                \n",
    "            else: \n",
    "                \n",
    "            # or check if there is a tie\n",
    "                if full_board_check(the_board):\n",
    "                    display_board(the_board)\n",
    "                    print('TIE GAME!')\n",
    "                    game_on = False\n",
    "                else:\n",
    "                    turn = 'Player 1'\n",
    "    \n",
    "    #BREAK OUT OF THE WHILE LOOP ON replay()\n",
    "    if not replay():\n",
    "        break"
   ]
  },
  {
   "cell_type": "markdown",
   "id": "f1d3d62c",
   "metadata": {},
   "source": [
    "**PENJELASANNYA**\n",
    "```\n",
    "1. \"if not replay():\"\n",
    "        \"break\"\n",
    "\"poin ini lo mengakeses kembali \"STEP 9\" untuk digunakan ketika permainan menghasilkan salah satu yang menang atau seri. maka lo bisa memanggil fungsi 'replay' kembali dan keluar dari looping 'while' unutuk menanyakan/menampilkan perintah \"Play again? Enter Yes or No\" seperti yang ada di \"STEP 9\"\"\n",
    "\n",
    "\"INGET!\" \n",
    "\"kalo menggunakan looping 'while' itu dia akan terus melakukan looping sampe tak hingga, untuk itu lo harus bisa menghentikannya.\"\n",
    "\"pada kasus ini, lo menghentikan looping 'while' dengan mengunakan 'break'\"\n",
    "\n",
    "\"A. SET EVERYTHING UP (BOARD, WHO FIRST, CHOOSE MARKERS X/O)\"\n",
    "1. \"the_board = [' ']*10\"\n",
    "\"pada poin ini lo mau bikin papan (board) kosongnya terlebih dahulu yang digunaknan sebagai wadah permainan.\"\n",
    "\n",
    "\"kenapa dikali 10?\"\n",
    "\"itu karena lo menginginkan angka di dalam list 1-9. jadi nanti ditulisnya (1,10) \n",
    "'inget! cara bacanya itu dari angka 1 sampe angka sebelum 10, yakni 9.\"\n",
    "\n",
    "\n",
    "2. \"player1_marker, player2_marker = player_input()\"\n",
    "\"Di sini lo kembali mengakses apa yang ada di \"STEP 2\" untuk player bisa memilih ingin sebagai X atau O.\"\n",
    "\n",
    "\n",
    "3. \"turn = choose_first()\"\n",
    "   \"print(turn + ' will go first')\"\n",
    "\"pada poin 4 ini lo mau menentukan siapa yang jalan terlebih dahulu. untuk itu, lo harus mengakses kembali fungsi yang ada di \"STEP 5\" yang menunjukkan seperti flip coin.\"\n",
    "\n",
    "\"turn\" \"di sini merupakan variable baru yang digunakan untuk menyimpan variable fungsi 'choose_first()'\"\n",
    "\n",
    "\"selanjutnya lo mengeksekusi argumen perintahnya dengan --> print(turn + ' will go first')\"\n",
    "\n",
    "\"B. GAME PLAY\"\n",
    "1. \"play_game = input('Ready to play? Y or N')\"\n",
    "\"poin 5 ini untuk memunculkan box yang berisi argumen 'Ready to play? Y or N'\"\n",
    "\n",
    "\"play_game\" \"di sini merupakan variable baru yang digunakan untuk menyimpan perintah input dan nantinya akan digunakan kembali untuk selanjutnya.\"\n",
    "\n",
    "\n",
    "2. \"if play_game == 'Y':\"\n",
    "        \"game_on = True\"\n",
    "   \"else:\"\n",
    "        \"game_on = False\"\n",
    "\"melanjutkan dari poin 5, pada poin 6 ini player disuruh memilih mau bermain atau enggak.\" \n",
    "\"kalo dia memilih 'Y' maka dia akan masuk ke permainan (True),\"\n",
    "\"kalo dia memilih 'N' berarti dia tidak ingin bermain (False).\"\n",
    "\n",
    "\n",
    "3. \"while game_on:\"\n",
    "\"pada bagian ini lo menggunakan looping 'while' karena lo ingin membuat permainan itu terus berlangsung sampe semua boardnya terisi penuh dan ada yang menang/seri.\"\n",
    "\"ketika lo sudah menemukan hasilnya (menang/seri), maka lo bisa menghentikan looping 'while' dengan menggunakan 'break' di akhir nanti.\"\n",
    "\n",
    "\"C. PLAYER ONE TURN\"\n",
    "1. \"if turn == 'Player 1':\"\n",
    "\"setelah lo menuliskan looping 'while' di sebelumnya, pada poin ini lo ingin membuat fungsi ketika player 1 bermain dan apa aja kemungkinan yang bisa terjadi.\"\n",
    "\n",
    "\"kenapa sama dengan nya dua (==)?\"\n",
    "\"itu karena lo mau menggunakan data bertipe 'boolean' karena lo menggunakan 2 object nilai, yakni player 1 dan player 2.\"\n",
    "\n",
    "\"MATERI DIKIT\"\n",
    "\"Tipe data 'boolean' sebenarnya sangat simple. Tipe data ini hanya bisa diisi dengan salah satu dari 2 nilai: True atau False.\"\n",
    "                            \n",
    "\"Tipe data boolean banyak dipakai untuk percabangan kode program atau untuk memutuskan apa yang mesti dijalankan ketika sebuah kondisi terjadi.\"\n",
    "\n",
    "`turn` 'di sini merupakan variable baru yang digunakan untuk memanggil 'player 1' untuk bermain.'\n",
    "\n",
    "                            \n",
    "\"C1.Show the board\"\n",
    "2. \"display_board(the_board)\"\n",
    "\"di sini lo mau menampilkan board yang ada di \"STEP 1\" TAPI kali ini yang diakses itu 'the_board' yang ada di fungsi ini (STEP 10) yang isinya merupakan board kosong (' ').\"\n",
    "\n",
    "\n",
    "\"C2 Choose a position\"\n",
    "3. \"position = player_choice (the_board)\"\n",
    "\"di sini lo membuat variable baru 'position' yang di dalamnya terdapat 'player_choice' yang mengakses variable 'the_board'\"\n",
    "\n",
    "\"position -->\" \"merupakan variable baru untuk menyimpan player_choice (the_board). yang mana `position` 'ini nantinya akan digunakan kembali pada tahap berikutnya.\"\n",
    "\n",
    "\"player_choice\" --> \"karena lo mau mengakses \"bagaimana ketika player 1 bermain\" maka lo harus menggunakan fungsi 'player_choice' yang ada di \"STEP 8\" agar player 1 dapat memasukkan nilai X/O pada posisi angka yang ada di pc/hpnya ke dalam boardnya.\"\n",
    "\n",
    "\"the_board\" --> \"merupakan variable yang ada di A poin 1 diatas yang isinya untuk \"menampilkan papan boardnya\"\"\n",
    "\n",
    "\"jadi maksud dari 'player_choice (the_board)' itu nanti pemain bisa menentukan mau menaro nila X/O nya di mana pada boardnya.\"\n",
    "\n",
    "\"C3 Place the marker on the position\"\n",
    "4. \"place_marker(the_board, player1_marker, position)\"\n",
    "\"di sini lo mau mengetahui posisi mana yang dipilih oleh player 1 pada permainan \"TIC TAC TOE\" di boardnya.\"\n",
    "\n",
    "\"untuk itu, lo mengakses kembali fungsi 'place_marker' yang ada di \"STEP 3\" yang digunakan untuk mengetahui posisi yang dimasukkan oleh pemain/player.\"\n",
    "\n",
    "\"C4 Check if player 1 won\"\n",
    "1. \"if win_check(the_board, player1_marker):\"\n",
    "\"di sini lo mengakses variable fungsi 'win_Check' yang ada di \"STEP 4\" untuk mengetahui bagaimana kondisi saat pemain itu menang.\"\n",
    "\n",
    "\"Jadi gini:\"\n",
    "A. \"win_check\"--> \"ini untuk mengetahui kondisi saat player 1 menang\"\n",
    "B. \"the_board\"  --> \"ini untuk menampilkan seluruh boardnya\"\n",
    "C. \"player1_marker\" --> \"ini untuk mengetahui player itu menang sebagai X atau O.\"\n",
    "\"karena 'player1_marker' ini ada di \"STEP 2\" yang merupakan bagian dari fungsi 'player input' untuk player bisa memilih ingin sebagai X atau O.\"\n",
    "\n",
    "\n",
    "2. \"display_board(the_board)\"\n",
    "       \"print('Congratulations! You have won the game!')\"\n",
    "\n",
    "\"ketika sudah merumuskan untuk mengetahui siapa yang menang (poin 1 C4), Selanjutnya menampilkan hasilnya dengan menggunakan fungsi 'display_board' yang ada di \"STEP 1\" TAPI kali ini yang diakses itu 'the_board' SETELAH POIN 1 TERPENUHI, alias ketika PLAYER 1 MENANG.\"\n",
    "\n",
    "\"setelah itu, bisa mengeksekusi ucapan selamat unutuk player 1 dengan menggunakan --> print('Congratulations! You have won the game!')\"\n",
    "\n",
    "\n",
    "3. \"game_on = False\"\n",
    "\"Saat 'game_on' yang awalnya bernilai 'True' saat mau memulai permainan, maka setelah player 1 menang, 'game_on' akan berubah menjadi 'False' agar permainan dihentikan.\"\n",
    "\n",
    "\"Pertanyaanku:\"\n",
    "\"Is setting the variable 'game_on = False' in the middle of the \"while game_on loop\" equal to 'break' out of the loop? Shouldn't the loop continue until the end and check the condition during the next iteration instead of just stopping? Or is the condition checked during the execution of every single line of the code inside the loop?\"\n",
    "\n",
    "\"Jawaban\"\n",
    "\"It does do that, but the way the code is written, the effect will be the same as if you had used break. The game_on = False lines are the last lines inside an if or else clause, so after those are executed, there is no more code that will run before going back to the while game_on line.\"\n",
    "\n",
    "\n",
    "4. \"else:\"\n",
    "\"setelah lo sudah merumuskan ketika player 1 menang, maka kemungkinan lain yang bisa terjadi ada 2:\"\n",
    "1. \"permainan itu seri, sehingga\"\n",
    "2. \"ganti giliran (turn) player 2 untuk bermain\"\n",
    "\"untuk itu, lo menggunakan 'else' untuk merumuskan 2 kemungkinan lainnya.\" \n",
    "\"kenapa gak ada kemungkinan jika player 1 kalah? karena pada kasus ini permainan \"TIC TAC TOE\" itu cuman ada MENANG, KALAH, ATAU SERI.\"\n",
    "\n",
    "\"C5 or check if there is a tie\"\n",
    "1. \"if full_board_check(the_board):\"\n",
    "                \"display_board(the_board)\"\n",
    "                \"print('TIE GAME!')\"\n",
    "                \"game_on = False\"\n",
    "                \n",
    "A. \"if full_board_check(the_board): (ketika permainan SERI)\"\n",
    "\"Untuk mengetahui permainan itu SERI, maka lo harus mengasumsikan bahwasanya 'board' sudah penuh. untuk itu, lo harus mengakses kembali variable fungsi 'full_board_check' yang ada di \"STEP 7\" dengan mengakses variable 'the_board' yang digunakan di \"STEP 10\" ini karena 'the_board' di \"STEP 10\" ini digunakan untuk menampilkan boardnya.\"\n",
    "\n",
    "B. \"display_board(the_board)\"\n",
    "\"Untuk menampilkan boardnya itu sebenarnya sudah dirumuskan pada \"STEP 1\". untuk itu, lo harus menggunakan kembali variable fungsi 'display_board' yang ada di \"STEP 1\" untuk memunculkan boardnya, tapi kali ini lo  mengaksesnya menggunakan variable 'the_board' yang ada di \"STEP 10\"\"\n",
    "\n",
    "C. \"print('TIE GAME!')\"\n",
    "\"Setelah ditampilkan boardnya, ketika SERI, maka lo bisa memberikan perintah untuk menjelaskan bahwasanya mereka SERI.\"\n",
    "\n",
    "\n",
    "2. \"else:\"\n",
    "      \"turn = 'Player 2'\"\n",
    "\"setelah lo merumuskan semua yang terjadi pada player 1, maka ketika yang terjadi itu selain (else) yang ada di perumusan player 1, maka lo bisa merubah gilirannya untuk 'player 2'\"\n",
    "\n",
    "\"D. PLAYER 2 TURN\"\n",
    "\"Penjelasannya sama seperti 'PLAYER 1 TURN'\"\n",
    "```"
   ]
  },
  {
   "cell_type": "code",
   "execution_count": null,
   "id": "f202588e",
   "metadata": {},
   "outputs": [],
   "source": []
  }
 ],
 "metadata": {
  "kernelspec": {
   "display_name": "Python 3 (ipykernel)",
   "language": "python",
   "name": "python3"
  },
  "language_info": {
   "codemirror_mode": {
    "name": "ipython",
    "version": 3
   },
   "file_extension": ".py",
   "mimetype": "text/x-python",
   "name": "python",
   "nbconvert_exporter": "python",
   "pygments_lexer": "ipython3",
   "version": "3.8.12"
  },
  "varInspector": {
   "cols": {
    "lenName": 16,
    "lenType": 16,
    "lenVar": 40
   },
   "kernels_config": {
    "python": {
     "delete_cmd_postfix": "",
     "delete_cmd_prefix": "del ",
     "library": "var_list.py",
     "varRefreshCmd": "print(var_dic_list())"
    },
    "r": {
     "delete_cmd_postfix": ") ",
     "delete_cmd_prefix": "rm(",
     "library": "var_list.r",
     "varRefreshCmd": "cat(var_dic_list()) "
    }
   },
   "types_to_exclude": [
    "module",
    "function",
    "builtin_function_or_method",
    "instance",
    "_Feature"
   ],
   "window_display": false
  }
 },
 "nbformat": 4,
 "nbformat_minor": 5
}
